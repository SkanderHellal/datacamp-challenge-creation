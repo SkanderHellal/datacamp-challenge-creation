{
 "cells": [
  {
   "cell_type": "code",
   "execution_count": 3,
   "metadata": {},
   "outputs": [],
   "source": [
    "%matplotlib inline\n",
    "import numpy as np\n",
    "import pandas as pd \n",
    "import os"
   ]
  },
  {
   "cell_type": "markdown",
   "metadata": {},
   "source": [
    "## Lecture et concaténation de tous les fichiers "
   ]
  },
  {
   "cell_type": "code",
   "execution_count": 4,
   "metadata": {},
   "outputs": [],
   "source": [
    "allfiles = os.listdir('./data/data valid/')\n",
    "li = []\n",
    "\n",
    "for file in allfiles : \n",
    "    file = './data/data valid/' + file \n",
    "    if file[-3:] == 'csv':\n",
    "        li.append(pd.read_csv(file, header=0, sep=';'))\n",
    "    else:\n",
    "        li.append(pd.read_csv(file, header=0, sep='\\t'))\n",
    "\n",
    "dt = pd.concat(li, axis=0, ignore_index=True)"
   ]
  },
  {
   "cell_type": "markdown",
   "metadata": {},
   "source": [
    "## Modification des types "
   ]
  },
  {
   "cell_type": "code",
   "execution_count": 5,
   "metadata": {},
   "outputs": [
    {
     "data": {
      "text/html": [
       "<div>\n",
       "<style scoped>\n",
       "    .dataframe tbody tr th:only-of-type {\n",
       "        vertical-align: middle;\n",
       "    }\n",
       "\n",
       "    .dataframe tbody tr th {\n",
       "        vertical-align: top;\n",
       "    }\n",
       "\n",
       "    .dataframe thead th {\n",
       "        text-align: right;\n",
       "    }\n",
       "</style>\n",
       "<table border=\"1\" class=\"dataframe\">\n",
       "  <thead>\n",
       "    <tr style=\"text-align: right;\">\n",
       "      <th></th>\n",
       "      <th>JOUR</th>\n",
       "      <th>CODE_STIF_TRNS</th>\n",
       "      <th>CODE_STIF_RES</th>\n",
       "      <th>CODE_STIF_ARRET</th>\n",
       "      <th>LIBELLE_ARRET</th>\n",
       "      <th>ID_REFA_LDA</th>\n",
       "      <th>CATEGORIE_TITRE</th>\n",
       "      <th>NB_VALD</th>\n",
       "    </tr>\n",
       "  </thead>\n",
       "  <tbody>\n",
       "    <tr>\n",
       "      <th>0</th>\n",
       "      <td>01/07/2015</td>\n",
       "      <td>100</td>\n",
       "      <td>110</td>\n",
       "      <td>1</td>\n",
       "      <td>PORTE MAILLOT</td>\n",
       "      <td>71379</td>\n",
       "      <td>AMETHYSTE</td>\n",
       "      <td>241</td>\n",
       "    </tr>\n",
       "    <tr>\n",
       "      <th>1</th>\n",
       "      <td>01/07/2015</td>\n",
       "      <td>100</td>\n",
       "      <td>110</td>\n",
       "      <td>1</td>\n",
       "      <td>PORTE MAILLOT</td>\n",
       "      <td>71379</td>\n",
       "      <td>AUTRE TITRE</td>\n",
       "      <td>215</td>\n",
       "    </tr>\n",
       "    <tr>\n",
       "      <th>2</th>\n",
       "      <td>01/07/2015</td>\n",
       "      <td>100</td>\n",
       "      <td>110</td>\n",
       "      <td>1</td>\n",
       "      <td>PORTE MAILLOT</td>\n",
       "      <td>71379</td>\n",
       "      <td>FGT</td>\n",
       "      <td>518</td>\n",
       "    </tr>\n",
       "    <tr>\n",
       "      <th>3</th>\n",
       "      <td>01/07/2015</td>\n",
       "      <td>100</td>\n",
       "      <td>110</td>\n",
       "      <td>1</td>\n",
       "      <td>PORTE MAILLOT</td>\n",
       "      <td>71379</td>\n",
       "      <td>IMAGINE R</td>\n",
       "      <td>2556</td>\n",
       "    </tr>\n",
       "    <tr>\n",
       "      <th>4</th>\n",
       "      <td>01/07/2015</td>\n",
       "      <td>100</td>\n",
       "      <td>110</td>\n",
       "      <td>1</td>\n",
       "      <td>PORTE MAILLOT</td>\n",
       "      <td>71379</td>\n",
       "      <td>NAVIGO</td>\n",
       "      <td>14463</td>\n",
       "    </tr>\n",
       "  </tbody>\n",
       "</table>\n",
       "</div>"
      ],
      "text/plain": [
       "         JOUR  CODE_STIF_TRNS CODE_STIF_RES CODE_STIF_ARRET  LIBELLE_ARRET  \\\n",
       "0  01/07/2015             100           110               1  PORTE MAILLOT   \n",
       "1  01/07/2015             100           110               1  PORTE MAILLOT   \n",
       "2  01/07/2015             100           110               1  PORTE MAILLOT   \n",
       "3  01/07/2015             100           110               1  PORTE MAILLOT   \n",
       "4  01/07/2015             100           110               1  PORTE MAILLOT   \n",
       "\n",
       "  ID_REFA_LDA CATEGORIE_TITRE NB_VALD  \n",
       "0       71379       AMETHYSTE     241  \n",
       "1       71379     AUTRE TITRE     215  \n",
       "2       71379             FGT     518  \n",
       "3       71379       IMAGINE R    2556  \n",
       "4       71379          NAVIGO   14463  "
      ]
     },
     "execution_count": 5,
     "metadata": {},
     "output_type": "execute_result"
    }
   ],
   "source": [
    "dt.head()"
   ]
  },
  {
   "cell_type": "markdown",
   "metadata": {},
   "source": [
    "#### 8% des données ont la valeur \"moins de 5\" "
   ]
  },
  {
   "cell_type": "code",
   "execution_count": 7,
   "metadata": {},
   "outputs": [
    {
     "data": {
      "text/plain": [
       "9.450435321932229"
      ]
     },
     "execution_count": 7,
     "metadata": {},
     "output_type": "execute_result"
    }
   ],
   "source": [
    "dt.loc[dt['NB_VALD'] == 'Moins de 5'].shape[0]/dt.shape[0]*100"
   ]
  },
  {
   "cell_type": "code",
   "execution_count": 8,
   "metadata": {},
   "outputs": [],
   "source": [
    "dt.loc[dt['NB_VALD'] == 'Moins de 5'] = 5\n",
    "dt['NB_VALD'] = pd.to_numeric(dt['NB_VALD'])"
   ]
  },
  {
   "cell_type": "code",
   "execution_count": 9,
   "metadata": {},
   "outputs": [],
   "source": [
    "dt['JOUR'] = dt['JOUR'].astype(str)"
   ]
  },
  {
   "cell_type": "code",
   "execution_count": 10,
   "metadata": {},
   "outputs": [
    {
     "data": {
      "text/plain": [
       "JOUR               object\n",
       "CODE_STIF_TRNS      int64\n",
       "CODE_STIF_RES      object\n",
       "CODE_STIF_ARRET    object\n",
       "LIBELLE_ARRET      object\n",
       "ID_REFA_LDA        object\n",
       "CATEGORIE_TITRE    object\n",
       "NB_VALD             int64\n",
       "dtype: object"
      ]
     },
     "execution_count": 10,
     "metadata": {},
     "output_type": "execute_result"
    }
   ],
   "source": [
    "dt.dtypes"
   ]
  },
  {
   "cell_type": "code",
   "execution_count": 11,
   "metadata": {},
   "outputs": [],
   "source": [
    "dt_agg = pd.DataFrame(dt.groupby([\"JOUR\",\"LIBELLE_ARRET\"])['NB_VALD'].sum().reset_index())"
   ]
  },
  {
   "cell_type": "code",
   "execution_count": 12,
   "metadata": {},
   "outputs": [
    {
     "data": {
      "text/plain": [
       "<matplotlib.axes._subplots.AxesSubplot at 0x11e9b1910>"
      ]
     },
     "execution_count": 12,
     "metadata": {},
     "output_type": "execute_result"
    },
    {
     "data": {
      "image/png": "[encoded data removed]",
      "text/plain": [
       "<Figure size 432x288 with 1 Axes>"
      ]
     },
     "metadata": {
      "needs_background": "light"
     },
     "output_type": "display_data"
    }
   ],
   "source": [
    "dt_agg.groupby('JOUR').sum().plot()"
   ]
  },
  {
   "cell_type": "code",
   "execution_count": 14,
   "metadata": {},
   "outputs": [],
   "source": [
    "dt_agg.to_csv('./data/validation_data_agg_2015_2019.csv')"
   ]
  },
  {
   "cell_type": "markdown",
   "metadata": {},
   "source": [
    "## Merge positions"
   ]
  },
  {
   "cell_type": "code",
   "execution_count": 17,
   "metadata": {},
   "outputs": [
    {
     "data": {
      "text/html": [
       "<div>\n",
       "<style scoped>\n",
       "    .dataframe tbody tr th:only-of-type {\n",
       "        vertical-align: middle;\n",
       "    }\n",
       "\n",
       "    .dataframe tbody tr th {\n",
       "        vertical-align: top;\n",
       "    }\n",
       "\n",
       "    .dataframe thead th {\n",
       "        text-align: right;\n",
       "    }\n",
       "</style>\n",
       "<table border=\"1\" class=\"dataframe\">\n",
       "  <thead>\n",
       "    <tr style=\"text-align: right;\">\n",
       "      <th></th>\n",
       "      <th>Name</th>\n",
       "      <th>lon</th>\n",
       "      <th>lat</th>\n",
       "    </tr>\n",
       "  </thead>\n",
       "  <tbody>\n",
       "    <tr>\n",
       "      <th>0</th>\n",
       "      <td>11novembre</td>\n",
       "      <td>48.849993</td>\n",
       "      <td>2.395659</td>\n",
       "    </tr>\n",
       "    <tr>\n",
       "      <th>1</th>\n",
       "      <td>11novembre1918</td>\n",
       "      <td>48.824212</td>\n",
       "      <td>2.516243</td>\n",
       "    </tr>\n",
       "    <tr>\n",
       "      <th>2</th>\n",
       "      <td>11novembrecourcellesuryvetterer</td>\n",
       "      <td>48.700031</td>\n",
       "      <td>2.099321</td>\n",
       "    </tr>\n",
       "    <tr>\n",
       "      <th>3</th>\n",
       "      <td>12fevrier1934</td>\n",
       "      <td>48.817827</td>\n",
       "      <td>2.308055</td>\n",
       "    </tr>\n",
       "    <tr>\n",
       "      <th>4</th>\n",
       "      <td>17octobre1961</td>\n",
       "      <td>48.898062</td>\n",
       "      <td>2.216702</td>\n",
       "    </tr>\n",
       "  </tbody>\n",
       "</table>\n",
       "</div>"
      ],
      "text/plain": [
       "                              Name        lon       lat\n",
       "0                       11novembre  48.849993  2.395659\n",
       "1                   11novembre1918  48.824212  2.516243\n",
       "2  11novembrecourcellesuryvetterer  48.700031  2.099321\n",
       "3                    12fevrier1934  48.817827  2.308055\n",
       "4                    17octobre1961  48.898062  2.216702"
      ]
     },
     "execution_count": 17,
     "metadata": {},
     "output_type": "execute_result"
    }
   ],
   "source": [
    "pos = pd.read_csv(\"../positions-geographiques-des-stations-du-reseau-ratp.csv\", sep=';')\n",
    "dt2 = pos[['Name','Coordinates']].copy()\n",
    "\n",
    "l = np.array(dt2[\"Coordinates\"].str.split(\",\").tolist())\n",
    "dt2[\"lon\"] = l[:,0]\n",
    "dt2[\"lat\"] = l[:,1]\n",
    "dt2.drop(\"Coordinates\",axis=1, inplace=True)\n",
    "#dt2[\"lon\"] = dt2[\"lon\"].str[0:6]\n",
    "#dt2[\"lat\"] = dt2[\"lat\"].str[0:6]\n",
    "\n",
    "#dt2.rename(columns={'Name':'LIBELLE_ARRET'}, inplace=True)\n",
    "dt2['Name'] = dt2['Name'].str.lower()\n",
    "dt2['Name'] = dt2['Name'].str.replace('[^\\w]','')\n",
    "dt2['Name'] = dt2['Name'].str.normalize('NFKD').str.encode('ascii', errors='ignore').str.decode('utf-8')\n",
    "\n",
    "dt2['lon'] = pd.to_numeric(dt2[\"lon\"])\n",
    "dt2['lat'] = pd.to_numeric(dt2[\"lat\"])\n",
    "\n",
    "dt2 = dt2.groupby('Name').mean().reset_index()\n",
    "dt2.drop_duplicates(inplace=True)\n",
    "\n",
    "dt2.head()"
   ]
  },
  {
   "cell_type": "code",
   "execution_count": 18,
   "metadata": {},
   "outputs": [],
   "source": [
    "dt_agg['Name'] = dt_agg['LIBELLE_ARRET'].str.lower()\n",
    "dt_agg['Name'] = dt_agg['Name'].str.replace('[^\\w]','')\n",
    "dt_agg['Name'] = dt_agg['Name'].str.normalize('NFKD').str.encode('ascii', errors='ignore').str.decode('utf-8')\n"
   ]
  },
  {
   "cell_type": "code",
   "execution_count": 20,
   "metadata": {},
   "outputs": [
    {
     "data": {
      "text/html": [
       "<div>\n",
       "<style scoped>\n",
       "    .dataframe tbody tr th:only-of-type {\n",
       "        vertical-align: middle;\n",
       "    }\n",
       "\n",
       "    .dataframe tbody tr th {\n",
       "        vertical-align: top;\n",
       "    }\n",
       "\n",
       "    .dataframe thead th {\n",
       "        text-align: right;\n",
       "    }\n",
       "</style>\n",
       "<table border=\"1\" class=\"dataframe\">\n",
       "  <thead>\n",
       "    <tr style=\"text-align: right;\">\n",
       "      <th></th>\n",
       "      <th>JOUR</th>\n",
       "      <th>LIBELLE_ARRET</th>\n",
       "      <th>NB_VALD</th>\n",
       "      <th>lon</th>\n",
       "      <th>lat</th>\n",
       "    </tr>\n",
       "  </thead>\n",
       "  <tbody>\n",
       "    <tr>\n",
       "      <th>0</th>\n",
       "      <td>01/01/2015</td>\n",
       "      <td>ABBESSES</td>\n",
       "      <td>750</td>\n",
       "      <td>48.884505</td>\n",
       "      <td>2.338365</td>\n",
       "    </tr>\n",
       "    <tr>\n",
       "      <th>1</th>\n",
       "      <td>01/01/2015</td>\n",
       "      <td>ABLON</td>\n",
       "      <td>108</td>\n",
       "      <td>NaN</td>\n",
       "      <td>NaN</td>\n",
       "    </tr>\n",
       "    <tr>\n",
       "      <th>2</th>\n",
       "      <td>01/01/2015</td>\n",
       "      <td>ACHERES-GRAND-CORMIER</td>\n",
       "      <td>8</td>\n",
       "      <td>48.955388</td>\n",
       "      <td>2.092457</td>\n",
       "    </tr>\n",
       "    <tr>\n",
       "      <th>3</th>\n",
       "      <td>01/01/2015</td>\n",
       "      <td>ACHERES-VILLE</td>\n",
       "      <td>482</td>\n",
       "      <td>48.970248</td>\n",
       "      <td>2.077672</td>\n",
       "    </tr>\n",
       "    <tr>\n",
       "      <th>4</th>\n",
       "      <td>01/01/2015</td>\n",
       "      <td>AEROPORT CHARLES DE GAULLE 1</td>\n",
       "      <td>1257</td>\n",
       "      <td>49.010400</td>\n",
       "      <td>2.561357</td>\n",
       "    </tr>\n",
       "  </tbody>\n",
       "</table>\n",
       "</div>"
      ],
      "text/plain": [
       "         JOUR                 LIBELLE_ARRET  NB_VALD        lon       lat\n",
       "0  01/01/2015                      ABBESSES      750  48.884505  2.338365\n",
       "1  01/01/2015                         ABLON      108        NaN       NaN\n",
       "2  01/01/2015         ACHERES-GRAND-CORMIER        8  48.955388  2.092457\n",
       "3  01/01/2015                 ACHERES-VILLE      482  48.970248  2.077672\n",
       "4  01/01/2015  AEROPORT CHARLES DE GAULLE 1     1257  49.010400  2.561357"
      ]
     },
     "execution_count": 20,
     "metadata": {},
     "output_type": "execute_result"
    }
   ],
   "source": [
    "dt_agg_pos = dt_agg.merge(dt2, how='left', on='Name')\n",
    "dt_agg_pos.drop('Name',axis=1,inplace=True)\n",
    "dt_agg_pos.head()"
   ]
  },
  {
   "cell_type": "code",
   "execution_count": null,
   "metadata": {},
   "outputs": [],
   "source": []
  }
 ],
 "metadata": {
  "kernelspec": {
   "display_name": "Python 3",
   "language": "python",
   "name": "python3"
  },
  "language_info": {
   "codemirror_mode": {
    "name": "ipython",
    "version": 3
   },
   "file_extension": ".py",
   "mimetype": "text/x-python",
   "name": "python",
   "nbconvert_exporter": "python",
   "pygments_lexer": "ipython3",
   "version": "3.7.4"
  }
 },
 "nbformat": 4,
 "nbformat_minor": 2
}

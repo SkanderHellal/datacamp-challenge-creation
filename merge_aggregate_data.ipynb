{
 "cells": [
  {
   "cell_type": "code",
   "execution_count": 58,
   "metadata": {},
   "outputs": [],
   "source": [
    "%matplotlib inline\n",
    "import numpy as np\n",
    "import pandas as pd \n",
    "import os"
   ]
  },
  {
   "cell_type": "markdown",
   "metadata": {},
   "source": [
    "## Lecture et concaténation de tous les fichiers "
   ]
  },
  {
   "cell_type": "code",
   "execution_count": 44,
   "metadata": {},
   "outputs": [],
   "source": [
    "allfiles = os.listdir('./data/data valid/')\n",
    "li = []\n",
    "\n",
    "for file in allfiles : \n",
    "    file = './data valid/' + file \n",
    "    if file[-3:] == 'csv':\n",
    "        li.append(pd.read_csv(file, header=0, sep=';'))\n",
    "    else:\n",
    "        li.append(pd.read_csv(file, header=0, sep='\\t'))\n",
    "\n",
    "dt = pd.concat(li, axis=0, ignore_index=True)"
   ]
  },
  {
   "cell_type": "markdown",
   "metadata": {},
   "source": [
    "## Modification des types "
   ]
  },
  {
   "cell_type": "code",
   "execution_count": 45,
   "metadata": {},
   "outputs": [
    {
     "data": {
      "text/html": [
       "<div>\n",
       "<style scoped>\n",
       "    .dataframe tbody tr th:only-of-type {\n",
       "        vertical-align: middle;\n",
       "    }\n",
       "\n",
       "    .dataframe tbody tr th {\n",
       "        vertical-align: top;\n",
       "    }\n",
       "\n",
       "    .dataframe thead th {\n",
       "        text-align: right;\n",
       "    }\n",
       "</style>\n",
       "<table border=\"1\" class=\"dataframe\">\n",
       "  <thead>\n",
       "    <tr style=\"text-align: right;\">\n",
       "      <th></th>\n",
       "      <th>JOUR</th>\n",
       "      <th>CODE_STIF_TRNS</th>\n",
       "      <th>CODE_STIF_RES</th>\n",
       "      <th>CODE_STIF_ARRET</th>\n",
       "      <th>LIBELLE_ARRET</th>\n",
       "      <th>ID_REFA_LDA</th>\n",
       "      <th>CATEGORIE_TITRE</th>\n",
       "      <th>NB_VALD</th>\n",
       "    </tr>\n",
       "  </thead>\n",
       "  <tbody>\n",
       "    <tr>\n",
       "      <th>0</th>\n",
       "      <td>01/07/2015</td>\n",
       "      <td>100</td>\n",
       "      <td>110</td>\n",
       "      <td>1</td>\n",
       "      <td>PORTE MAILLOT</td>\n",
       "      <td>71379</td>\n",
       "      <td>AMETHYSTE</td>\n",
       "      <td>241</td>\n",
       "    </tr>\n",
       "    <tr>\n",
       "      <th>1</th>\n",
       "      <td>01/07/2015</td>\n",
       "      <td>100</td>\n",
       "      <td>110</td>\n",
       "      <td>1</td>\n",
       "      <td>PORTE MAILLOT</td>\n",
       "      <td>71379</td>\n",
       "      <td>AUTRE TITRE</td>\n",
       "      <td>215</td>\n",
       "    </tr>\n",
       "    <tr>\n",
       "      <th>2</th>\n",
       "      <td>01/07/2015</td>\n",
       "      <td>100</td>\n",
       "      <td>110</td>\n",
       "      <td>1</td>\n",
       "      <td>PORTE MAILLOT</td>\n",
       "      <td>71379</td>\n",
       "      <td>FGT</td>\n",
       "      <td>518</td>\n",
       "    </tr>\n",
       "    <tr>\n",
       "      <th>3</th>\n",
       "      <td>01/07/2015</td>\n",
       "      <td>100</td>\n",
       "      <td>110</td>\n",
       "      <td>1</td>\n",
       "      <td>PORTE MAILLOT</td>\n",
       "      <td>71379</td>\n",
       "      <td>IMAGINE R</td>\n",
       "      <td>2556</td>\n",
       "    </tr>\n",
       "    <tr>\n",
       "      <th>4</th>\n",
       "      <td>01/07/2015</td>\n",
       "      <td>100</td>\n",
       "      <td>110</td>\n",
       "      <td>1</td>\n",
       "      <td>PORTE MAILLOT</td>\n",
       "      <td>71379</td>\n",
       "      <td>NAVIGO</td>\n",
       "      <td>14463</td>\n",
       "    </tr>\n",
       "  </tbody>\n",
       "</table>\n",
       "</div>"
      ],
      "text/plain": [
       "         JOUR  CODE_STIF_TRNS CODE_STIF_RES CODE_STIF_ARRET  LIBELLE_ARRET  \\\n",
       "0  01/07/2015             100           110               1  PORTE MAILLOT   \n",
       "1  01/07/2015             100           110               1  PORTE MAILLOT   \n",
       "2  01/07/2015             100           110               1  PORTE MAILLOT   \n",
       "3  01/07/2015             100           110               1  PORTE MAILLOT   \n",
       "4  01/07/2015             100           110               1  PORTE MAILLOT   \n",
       "\n",
       "  ID_REFA_LDA CATEGORIE_TITRE NB_VALD  \n",
       "0       71379       AMETHYSTE     241  \n",
       "1       71379     AUTRE TITRE     215  \n",
       "2       71379             FGT     518  \n",
       "3       71379       IMAGINE R    2556  \n",
       "4       71379          NAVIGO   14463  "
      ]
     },
     "execution_count": 45,
     "metadata": {},
     "output_type": "execute_result"
    }
   ],
   "source": [
    "dt.head()"
   ]
  },
  {
   "cell_type": "code",
   "execution_count": 46,
   "metadata": {},
   "outputs": [],
   "source": [
    "dt['JOUR'] = pd.to_datetime(dt['JOUR'], format='%d/%m/%Y')\n"
   ]
  },
  {
   "cell_type": "markdown",
   "metadata": {},
   "source": [
    "#### 8% des données ont la valeur \"moins de 5\" "
   ]
  },
  {
   "cell_type": "code",
   "execution_count": 48,
   "metadata": {},
   "outputs": [
    {
     "data": {
      "text/plain": [
       "8.13209471566006"
      ]
     },
     "execution_count": 48,
     "metadata": {},
     "output_type": "execute_result"
    }
   ],
   "source": [
    "dt.loc[dt['NB_VALD'] == 'Moins de 5'].shape[0]/dt.shape[0]*100"
   ]
  },
  {
   "cell_type": "code",
   "execution_count": 49,
   "metadata": {},
   "outputs": [],
   "source": [
    "dt.loc[dt['NB_VALD'] == 'Moins de 5'] = 5\n",
    "dt['NB_VALD'] = pd.to_numeric(dt['NB_VALD'])"
   ]
  },
  {
   "cell_type": "code",
   "execution_count": 54,
   "metadata": {},
   "outputs": [],
   "source": [
    "dt['JOUR'] = dt['JOUR'].astype(str)"
   ]
  },
  {
   "cell_type": "code",
   "execution_count": 55,
   "metadata": {},
   "outputs": [
    {
     "data": {
      "text/plain": [
       "JOUR               object\n",
       "CODE_STIF_TRNS      int64\n",
       "CODE_STIF_RES      object\n",
       "CODE_STIF_ARRET    object\n",
       "LIBELLE_ARRET      object\n",
       "ID_REFA_LDA        object\n",
       "CATEGORIE_TITRE    object\n",
       "NB_VALD             int64\n",
       "dtype: object"
      ]
     },
     "execution_count": 55,
     "metadata": {},
     "output_type": "execute_result"
    }
   ],
   "source": [
    "dt.dtypes"
   ]
  },
  {
   "cell_type": "code",
   "execution_count": 61,
   "metadata": {},
   "outputs": [],
   "source": [
    "dt_agg = pd.DataFrame(dt.groupby([\"JOUR\",\"LIBELLE_ARRET\"])['NB_VALD'].sum().reset_index())"
   ]
  },
  {
   "cell_type": "code",
   "execution_count": 63,
   "metadata": {},
   "outputs": [
    {
     "data": {
      "text/plain": [
       "<matplotlib.axes._subplots.AxesSubplot at 0x1f3e72850>"
      ]
     },
     "execution_count": 63,
     "metadata": {},
     "output_type": "execute_result"
    },
    {
     "data": {
      "image/png": "[encoded data removed]",
      "text/plain": [
       "<Figure size 432x288 with 1 Axes>"
      ]
     },
     "metadata": {
      "needs_background": "light"
     },
     "output_type": "display_data"
    }
   ],
   "source": [
    "dt_agg.groupby('JOUR').sum().plot()"
   ]
  },
  {
   "cell_type": "code",
   "execution_count": 64,
   "metadata": {},
   "outputs": [],
   "source": [
    "dt_agg.to_csv('./datacamp-challenge-creation/data/validation_data_agg_2015_2018.csv')"
   ]
  },
  {
   "cell_type": "code",
   "execution_count": null,
   "metadata": {},
   "outputs": [],
   "source": []
  }
 ],
 "metadata": {
  "kernelspec": {
   "display_name": "Python 3",
   "language": "python",
   "name": "python3"
  },
  "language_info": {
   "codemirror_mode": {
    "name": "ipython",
    "version": 3
   },
   "file_extension": ".py",
   "mimetype": "text/x-python",
   "name": "python",
   "nbconvert_exporter": "python",
   "pygments_lexer": "ipython3",
   "version": "3.7.4"
  }
 },
 "nbformat": 4,
 "nbformat_minor": 2
}
